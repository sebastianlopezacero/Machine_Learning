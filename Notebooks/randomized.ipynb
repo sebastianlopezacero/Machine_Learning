{
 "cells": [
  {
   "cell_type": "markdown",
   "metadata": {},
   "source": [
    "# Librerias"
   ]
  },
  {
   "cell_type": "code",
   "execution_count": 2,
   "metadata": {},
   "outputs": [],
   "source": [
    "import pandas as pd\n",
    "\n",
    "\n",
    "from sklearn.model_selection import RandomizedSearchCV\n",
    "from sklearn.ensemble import RandomForestRegressor"
   ]
  },
  {
   "cell_type": "code",
   "execution_count": 8,
   "metadata": {},
   "outputs": [],
   "source": [
    "dataset = pd.read_csv(\"../data/felicidad.csv\")\n",
    "X = dataset.drop([\"country\", \"rank\", \"score\"], axis=1)\n",
    "y= dataset[\"score\"]"
   ]
  },
  {
   "cell_type": "code",
   "execution_count": 17,
   "metadata": {},
   "outputs": [
    {
     "name": "stdout",
     "output_type": "stream",
     "text": [
      "RandomForestRegressor(criterion='absolute_error', max_depth=9, n_estimators=13)\n",
      "{'n_estimators': 13, 'max_depth': 9, 'criterion': 'absolute_error'}\n",
      "[7.50884621]\n"
     ]
    }
   ],
   "source": [
    "reg = RandomForestRegressor()\n",
    "\n",
    "\n",
    "\n",
    "parametros = {\n",
    "    'n_estimators' : range(4,16),\n",
    "    'criterion' : ['squared_error', 'absolute_error'],\n",
    "    'max_depth' : range(2,11)\n",
    "}\n",
    "\n",
    "\n",
    "rand_est = RandomizedSearchCV(reg, parametros , n_iter=10, cv=3, scoring='neg_mean_absolute_error').fit(X,y)\n",
    "\n",
    "print(rand_est.best_estimator_)\n",
    "print(rand_est.best_params_)\n",
    "print(rand_est.predict(X.loc[[0]]))"
   ]
  },
  {
   "cell_type": "code",
   "execution_count": null,
   "metadata": {},
   "outputs": [],
   "source": []
  }
 ],
 "metadata": {
  "kernelspec": {
   "display_name": "env_ml",
   "language": "python",
   "name": "python3"
  },
  "language_info": {
   "codemirror_mode": {
    "name": "ipython",
    "version": 3
   },
   "file_extension": ".py",
   "mimetype": "text/x-python",
   "name": "python",
   "nbconvert_exporter": "python",
   "pygments_lexer": "ipython3",
   "version": "3.11.7"
  }
 },
 "nbformat": 4,
 "nbformat_minor": 2
}
